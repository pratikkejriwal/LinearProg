{
 "cells": [
  {
   "cell_type": "markdown",
   "metadata": {},
   "source": [
    "# <center>Linear Programming</center>\n",
    "#### <center>by</center>\n",
    "# <center>Pratik Kejriwal</center>"
   ]
  },
  {
   "cell_type": "markdown",
   "metadata": {},
   "source": [
    "### Linear Programming (also known as Linear Optimization), is a simple optimization technique where we try to simplify complex relationships in terms of linear functions and then find optimum points in such linear functions, so as to achieve the best outcome (either as lowest cost or as maximum profit)."
   ]
  },
  {
   "cell_type": "markdown",
   "metadata": {},
   "source": [
    "### Linear Programming is used to obtain the most optimal solution for a problem provided the constraints are given. In linear programming, we formulate the real life problem into a mathematical model. The process involves an objective function, linear inequalities with subject to constraints. It can also be modelled to work for multi-dimensional problems.\n",
    "### We apply linear programming by making simple assumptions, using which we can reduce the complexity of the problem drastically and can create solution(s) which works in most of the cases. Moreover, it can change/adjust with changing conditions and can help in selecting the best alternative based on the cost and profit among various alternatives."
   ]
  },
  {
   "cell_type": "markdown",
   "metadata": {},
   "source": [
    "### Applications of Linear Programming"
   ]
  },
  {
   "cell_type": "markdown",
   "metadata": {},
   "source": [
    "### We can use linear programming for analyzing the supply chain operations in the manufacturing industries. Where we can maximize efficiency with minimum operation cost. As per the recommendations from the linear programming model, we can reconfigure the storage layout, adjust the workforce and reduce the bottlenecks associated with the industry.\n",
    "### Linear programming is also used for shelf space optimization. As the number of products in the market have increased exponentially, it is important to understand what does the customer want. Optimization is aggressively used in stores where the products are placed strategically, keeping in mind the customer shopping pattern. The objective is to make it easy for a customer to locate & select the right products. This is with subject to constraints like limited shelf space, the variety of products, etc.\n",
    "### Linear Programming is also used in optimization of Delivery Routes, extension of the traveling salesman problem. In such cases industry uses linear programming for finding the best route for multiple salesmen traveling to multiple cities. And with agglomerating it with clustering and greedy algorithms the delivery routes are decided by the companies. Here, the objective is to minimize the operation cost and time.\n",
    "### Supervised Learning works on the basics of linear programming. A system is trained to fit on a mathematical model using a function from the labeled input data and the trained model is used to predict values for an unknown test data.\n",
    "### The applications of linear programming also include Stock Market, Sports, etc predictions and optimization. The Linear Programming technique is used for selecting the best possible strategy from a number of alternatives."
   ]
  },
  {
   "cell_type": "markdown",
   "metadata": {},
   "source": [
    "## Problem Formulation\n",
    "### A car company produces 2 models, model A and model B. Long-term projections indicate an expected demand of at least 100 model A cars and 80 model B cars each day. Because of limitations on production capacity, no more than 200 model A cars and 170 model B cars can be made daily. To satisfy a shipping contract, a total of at least 200 cars much be shipped each day. If each model A car sold results in a \\$2000 loss, but each model B car produces a \\$5000 profit, how many of each type should be made daily to maximize net profits?"
   ]
  },
  {
   "cell_type": "markdown",
   "metadata": {},
   "source": [
    "### Solution in R programming"
   ]
  },
  {
   "cell_type": "code",
   "execution_count": 1,
   "metadata": {
    "collapsed": true
   },
   "outputs": [],
   "source": [
    "#importing the necessary \n",
    "#library lpSolveAPI supports the linear programming\n",
    "library(lpSolveAPI)"
   ]
  },
  {
   "cell_type": "code",
   "execution_count": 2,
   "metadata": {},
   "outputs": [
    {
     "data": {
      "text/html": [
       "<table>\n",
       "<thead><tr><th scope=col>model</th><th scope=col>demand</th><th scope=col>capacity</th><th scope=col>profit</th></tr></thead>\n",
       "<tbody>\n",
       "\t<tr><td>A    </td><td>100  </td><td>200  </td><td>-2000</td></tr>\n",
       "\t<tr><td>B    </td><td> 80  </td><td>170  </td><td> 5000</td></tr>\n",
       "</tbody>\n",
       "</table>\n"
      ],
      "text/latex": [
       "\\begin{tabular}{r|llll}\n",
       " model & demand & capacity & profit\\\\\n",
       "\\hline\n",
       "\t A     & 100   & 200   & -2000\\\\\n",
       "\t B     &  80   & 170   &  5000\\\\\n",
       "\\end{tabular}\n"
      ],
      "text/markdown": [
       "\n",
       "model | demand | capacity | profit | \n",
       "|---|---|\n",
       "| A     | 100   | 200   | -2000 | \n",
       "| B     |  80   | 170   |  5000 | \n",
       "\n",
       "\n"
      ],
      "text/plain": [
       "  model demand capacity profit\n",
       "1 A     100    200      -2000 \n",
       "2 B      80    170       5000 "
      ]
     },
     "metadata": {},
     "output_type": "display_data"
    }
   ],
   "source": [
    "# given data\n",
    "model <- c('A','B')\n",
    "demand <- c(100, 80)\n",
    "capacity <- c(200, 170)\n",
    "profit <- c(-2000, 5000)\n",
    "# creating a dataframe for the above data\n",
    "df <- data.frame(model, demand, capacity, profit)\n",
    "df"
   ]
  },
  {
   "cell_type": "code",
   "execution_count": 3,
   "metadata": {},
   "outputs": [
    {
     "data": {
      "text/html": [
       "<dl>\n",
       "\t<dt>$anti.degen</dt>\n",
       "\t\t<dd><ol class=list-inline>\n",
       "\t<li>'fixedvars'</li>\n",
       "\t<li>'stalling'</li>\n",
       "</ol>\n",
       "</dd>\n",
       "\t<dt>$basis.crash</dt>\n",
       "\t\t<dd>'none'</dd>\n",
       "\t<dt>$bb.depthlimit</dt>\n",
       "\t\t<dd>-50</dd>\n",
       "\t<dt>$bb.floorfirst</dt>\n",
       "\t\t<dd>'automatic'</dd>\n",
       "\t<dt>$bb.rule</dt>\n",
       "\t\t<dd><ol class=list-inline>\n",
       "\t<li>'pseudononint'</li>\n",
       "\t<li>'greedy'</li>\n",
       "\t<li>'dynamic'</li>\n",
       "\t<li>'rcostfixing'</li>\n",
       "</ol>\n",
       "</dd>\n",
       "\t<dt>$break.at.first</dt>\n",
       "\t\t<dd>FALSE</dd>\n",
       "\t<dt>$break.at.value</dt>\n",
       "\t\t<dd>1e+30</dd>\n",
       "\t<dt>$epsilon</dt>\n",
       "\t\t<dd><dl class=dl-horizontal>\n",
       "\t<dt>epsb</dt>\n",
       "\t\t<dd>1e-10</dd>\n",
       "\t<dt>epsd</dt>\n",
       "\t\t<dd>1e-09</dd>\n",
       "\t<dt>epsel</dt>\n",
       "\t\t<dd>1e-12</dd>\n",
       "\t<dt>epsint</dt>\n",
       "\t\t<dd>1e-07</dd>\n",
       "\t<dt>epsperturb</dt>\n",
       "\t\t<dd>1e-05</dd>\n",
       "\t<dt>epspivot</dt>\n",
       "\t\t<dd>2e-07</dd>\n",
       "</dl>\n",
       "</dd>\n",
       "\t<dt>$improve</dt>\n",
       "\t\t<dd><ol class=list-inline>\n",
       "\t<li>'dualfeas'</li>\n",
       "\t<li>'thetagap'</li>\n",
       "</ol>\n",
       "</dd>\n",
       "\t<dt>$infinite</dt>\n",
       "\t\t<dd>1e+30</dd>\n",
       "\t<dt>$maxpivot</dt>\n",
       "\t\t<dd>250</dd>\n",
       "\t<dt>$mip.gap</dt>\n",
       "\t\t<dd><dl class=dl-horizontal>\n",
       "\t<dt>absolute</dt>\n",
       "\t\t<dd>1e-11</dd>\n",
       "\t<dt>relative</dt>\n",
       "\t\t<dd>1e-11</dd>\n",
       "</dl>\n",
       "</dd>\n",
       "\t<dt>$negrange</dt>\n",
       "\t\t<dd>-1e+06</dd>\n",
       "\t<dt>$obj.in.basis</dt>\n",
       "\t\t<dd>TRUE</dd>\n",
       "\t<dt>$pivoting</dt>\n",
       "\t\t<dd><ol class=list-inline>\n",
       "\t<li>'devex'</li>\n",
       "\t<li>'adaptive'</li>\n",
       "</ol>\n",
       "</dd>\n",
       "\t<dt>$presolve</dt>\n",
       "\t\t<dd>'none'</dd>\n",
       "\t<dt>$scalelimit</dt>\n",
       "\t\t<dd>5</dd>\n",
       "\t<dt>$scaling</dt>\n",
       "\t\t<dd><ol class=list-inline>\n",
       "\t<li>'geometric'</li>\n",
       "\t<li>'equilibrate'</li>\n",
       "\t<li>'integers'</li>\n",
       "</ol>\n",
       "</dd>\n",
       "\t<dt>$sense</dt>\n",
       "\t\t<dd>'maximize'</dd>\n",
       "\t<dt>$simplextype</dt>\n",
       "\t\t<dd><ol class=list-inline>\n",
       "\t<li>'dual'</li>\n",
       "\t<li>'primal'</li>\n",
       "</ol>\n",
       "</dd>\n",
       "\t<dt>$timeout</dt>\n",
       "\t\t<dd>0</dd>\n",
       "\t<dt>$verbose</dt>\n",
       "\t\t<dd>'neutral'</dd>\n",
       "</dl>\n"
      ],
      "text/latex": [
       "\\begin{description}\n",
       "\\item[\\$anti.degen] \\begin{enumerate*}\n",
       "\\item 'fixedvars'\n",
       "\\item 'stalling'\n",
       "\\end{enumerate*}\n",
       "\n",
       "\\item[\\$basis.crash] 'none'\n",
       "\\item[\\$bb.depthlimit] -50\n",
       "\\item[\\$bb.floorfirst] 'automatic'\n",
       "\\item[\\$bb.rule] \\begin{enumerate*}\n",
       "\\item 'pseudononint'\n",
       "\\item 'greedy'\n",
       "\\item 'dynamic'\n",
       "\\item 'rcostfixing'\n",
       "\\end{enumerate*}\n",
       "\n",
       "\\item[\\$break.at.first] FALSE\n",
       "\\item[\\$break.at.value] 1e+30\n",
       "\\item[\\$epsilon] \\begin{description*}\n",
       "\\item[epsb] 1e-10\n",
       "\\item[epsd] 1e-09\n",
       "\\item[epsel] 1e-12\n",
       "\\item[epsint] 1e-07\n",
       "\\item[epsperturb] 1e-05\n",
       "\\item[epspivot] 2e-07\n",
       "\\end{description*}\n",
       "\n",
       "\\item[\\$improve] \\begin{enumerate*}\n",
       "\\item 'dualfeas'\n",
       "\\item 'thetagap'\n",
       "\\end{enumerate*}\n",
       "\n",
       "\\item[\\$infinite] 1e+30\n",
       "\\item[\\$maxpivot] 250\n",
       "\\item[\\$mip.gap] \\begin{description*}\n",
       "\\item[absolute] 1e-11\n",
       "\\item[relative] 1e-11\n",
       "\\end{description*}\n",
       "\n",
       "\\item[\\$negrange] -1e+06\n",
       "\\item[\\$obj.in.basis] TRUE\n",
       "\\item[\\$pivoting] \\begin{enumerate*}\n",
       "\\item 'devex'\n",
       "\\item 'adaptive'\n",
       "\\end{enumerate*}\n",
       "\n",
       "\\item[\\$presolve] 'none'\n",
       "\\item[\\$scalelimit] 5\n",
       "\\item[\\$scaling] \\begin{enumerate*}\n",
       "\\item 'geometric'\n",
       "\\item 'equilibrate'\n",
       "\\item 'integers'\n",
       "\\end{enumerate*}\n",
       "\n",
       "\\item[\\$sense] 'maximize'\n",
       "\\item[\\$simplextype] \\begin{enumerate*}\n",
       "\\item 'dual'\n",
       "\\item 'primal'\n",
       "\\end{enumerate*}\n",
       "\n",
       "\\item[\\$timeout] 0\n",
       "\\item[\\$verbose] 'neutral'\n",
       "\\end{description}\n"
      ],
      "text/markdown": [
       "$anti.degen\n",
       ":   1. 'fixedvars'\n",
       "2. 'stalling'\n",
       "\n",
       "\n",
       "\n",
       "$basis.crash\n",
       ":   'none'\n",
       "$bb.depthlimit\n",
       ":   -50\n",
       "$bb.floorfirst\n",
       ":   'automatic'\n",
       "$bb.rule\n",
       ":   1. 'pseudononint'\n",
       "2. 'greedy'\n",
       "3. 'dynamic'\n",
       "4. 'rcostfixing'\n",
       "\n",
       "\n",
       "\n",
       "$break.at.first\n",
       ":   FALSE\n",
       "$break.at.value\n",
       ":   1e+30\n",
       "$epsilon\n",
       ":   epsb\n",
       ":   1e-10epsd\n",
       ":   1e-09epsel\n",
       ":   1e-12epsint\n",
       ":   1e-07epsperturb\n",
       ":   1e-05epspivot\n",
       ":   2e-07\n",
       "\n",
       "\n",
       "$improve\n",
       ":   1. 'dualfeas'\n",
       "2. 'thetagap'\n",
       "\n",
       "\n",
       "\n",
       "$infinite\n",
       ":   1e+30\n",
       "$maxpivot\n",
       ":   250\n",
       "$mip.gap\n",
       ":   absolute\n",
       ":   1e-11relative\n",
       ":   1e-11\n",
       "\n",
       "\n",
       "$negrange\n",
       ":   -1e+06\n",
       "$obj.in.basis\n",
       ":   TRUE\n",
       "$pivoting\n",
       ":   1. 'devex'\n",
       "2. 'adaptive'\n",
       "\n",
       "\n",
       "\n",
       "$presolve\n",
       ":   'none'\n",
       "$scalelimit\n",
       ":   5\n",
       "$scaling\n",
       ":   1. 'geometric'\n",
       "2. 'equilibrate'\n",
       "3. 'integers'\n",
       "\n",
       "\n",
       "\n",
       "$sense\n",
       ":   'maximize'\n",
       "$simplextype\n",
       ":   1. 'dual'\n",
       "2. 'primal'\n",
       "\n",
       "\n",
       "\n",
       "$timeout\n",
       ":   0\n",
       "$verbose\n",
       ":   'neutral'\n",
       "\n",
       "\n"
      ],
      "text/plain": [
       "$anti.degen\n",
       "[1] \"fixedvars\" \"stalling\" \n",
       "\n",
       "$basis.crash\n",
       "[1] \"none\"\n",
       "\n",
       "$bb.depthlimit\n",
       "[1] -50\n",
       "\n",
       "$bb.floorfirst\n",
       "[1] \"automatic\"\n",
       "\n",
       "$bb.rule\n",
       "[1] \"pseudononint\" \"greedy\"       \"dynamic\"      \"rcostfixing\" \n",
       "\n",
       "$break.at.first\n",
       "[1] FALSE\n",
       "\n",
       "$break.at.value\n",
       "[1] 1e+30\n",
       "\n",
       "$epsilon\n",
       "      epsb       epsd      epsel     epsint epsperturb   epspivot \n",
       "     1e-10      1e-09      1e-12      1e-07      1e-05      2e-07 \n",
       "\n",
       "$improve\n",
       "[1] \"dualfeas\" \"thetagap\"\n",
       "\n",
       "$infinite\n",
       "[1] 1e+30\n",
       "\n",
       "$maxpivot\n",
       "[1] 250\n",
       "\n",
       "$mip.gap\n",
       "absolute relative \n",
       "   1e-11    1e-11 \n",
       "\n",
       "$negrange\n",
       "[1] -1e+06\n",
       "\n",
       "$obj.in.basis\n",
       "[1] TRUE\n",
       "\n",
       "$pivoting\n",
       "[1] \"devex\"    \"adaptive\"\n",
       "\n",
       "$presolve\n",
       "[1] \"none\"\n",
       "\n",
       "$scalelimit\n",
       "[1] 5\n",
       "\n",
       "$scaling\n",
       "[1] \"geometric\"   \"equilibrate\" \"integers\"   \n",
       "\n",
       "$sense\n",
       "[1] \"maximize\"\n",
       "\n",
       "$simplextype\n",
       "[1] \"dual\"   \"primal\"\n",
       "\n",
       "$timeout\n",
       "[1] 0\n",
       "\n",
       "$verbose\n",
       "[1] \"neutral\"\n"
      ]
     },
     "metadata": {},
     "output_type": "display_data"
    }
   ],
   "source": [
    "lprec <- make.lp(0,2)\n",
    "lp.control(lprec, sense=\"max\") \n",
    "# maximize the profit as per the question\n",
    "set.objfn(lprec, c(-2000, 5000))\n",
    "# shipment must be greater than 200,\n",
    "add.constraint(lprec, c(1,1), \">=\", 200)\n",
    "\n",
    "# as per the Demand\n",
    "# minimum of 100 model A cars must be manufactured\n",
    "add.constraint(lprec, c(1,0), \">=\", 100)\n",
    "# minimum of 80 model B cars must be manufactured\n",
    "add.constraint(lprec, c(0,1), \">=\", 80)\n",
    "\n",
    "# as per the capacity\n",
    "# maximum of 200 model A cars can be manufactured\n",
    "add.constraint(lprec, c(1,0), \"<=\", 200)\n",
    "# maximum of 170 model B cars can be manufactured\n",
    "add.constraint(lprec, c(0,1), \"<=\", 170)\n",
    "\n",
    "RowNames <- c('Shipment', 'MinA', 'MinB', 'MaxA', 'MaxB')\n",
    "ColNames <- c('Model A', 'Model B')\n",
    "dimnames(lprec) <- list(RowNames, ColNames)"
   ]
  },
  {
   "cell_type": "code",
   "execution_count": 4,
   "metadata": {},
   "outputs": [
    {
     "data": {
      "text/plain": [
       "Model name: \n",
       "          Model A  Model B         \n",
       "Maximize    -2000     5000         \n",
       "Shipment        1        1  >=  200\n",
       "MinA            1        0  >=  100\n",
       "MinB            0        1  >=   80\n",
       "MaxA            1        0  <=  200\n",
       "MaxB            0        1  <=  170\n",
       "Kind          Std      Std         \n",
       "Type         Real     Real         \n",
       "Upper         Inf      Inf         \n",
       "Lower           0        0         "
      ]
     },
     "metadata": {},
     "output_type": "display_data"
    }
   ],
   "source": [
    "lprec"
   ]
  },
  {
   "cell_type": "code",
   "execution_count": 5,
   "metadata": {},
   "outputs": [
    {
     "data": {
      "text/html": [
       "0"
      ],
      "text/latex": [
       "0"
      ],
      "text/markdown": [
       "0"
      ],
      "text/plain": [
       "[1] 0"
      ]
     },
     "metadata": {},
     "output_type": "display_data"
    }
   ],
   "source": [
    "solve(lprec)\n",
    "# if = 0, implies optimal solution can be evaluated"
   ]
  },
  {
   "cell_type": "code",
   "execution_count": 6,
   "metadata": {},
   "outputs": [
    {
     "data": {
      "text/html": [
       "650000"
      ],
      "text/latex": [
       "650000"
      ],
      "text/markdown": [
       "650000"
      ],
      "text/plain": [
       "[1] 650000"
      ]
     },
     "metadata": {},
     "output_type": "display_data"
    }
   ],
   "source": [
    "get.objective(lprec)\n",
    "# maximum profit that can be made"
   ]
  },
  {
   "cell_type": "code",
   "execution_count": 7,
   "metadata": {},
   "outputs": [
    {
     "data": {
      "text/html": [
       "<ol class=list-inline>\n",
       "\t<li>100</li>\n",
       "\t<li>170</li>\n",
       "</ol>\n"
      ],
      "text/latex": [
       "\\begin{enumerate*}\n",
       "\\item 100\n",
       "\\item 170\n",
       "\\end{enumerate*}\n"
      ],
      "text/markdown": [
       "1. 100\n",
       "2. 170\n",
       "\n",
       "\n"
      ],
      "text/plain": [
       "[1] 100 170"
      ]
     },
     "metadata": {},
     "output_type": "display_data"
    }
   ],
   "source": [
    "get.variables(lprec)\n",
    "# number of cars to be made by each A and B respectively in order to maximize the profit"
   ]
  },
  {
   "cell_type": "markdown",
   "metadata": {},
   "source": [
    "### Solution in Python"
   ]
  },
  {
   "cell_type": "code",
   "execution_count": 1,
   "metadata": {
    "collapsed": true
   },
   "outputs": [],
   "source": [
    "#importing puLP which is a linear programming package\n",
    "import pulp"
   ]
  },
  {
   "cell_type": "code",
   "execution_count": 2,
   "metadata": {
    "collapsed": true
   },
   "outputs": [],
   "source": [
    "linear = pulp.LpProblem(\"Linear Programming\", pulp.LpMaximize)"
   ]
  },
  {
   "cell_type": "code",
   "execution_count": 3,
   "metadata": {
    "collapsed": true
   },
   "outputs": [],
   "source": [
    "x = pulp.LpVariable('x', lowBound=100, upBound=200, cat='Continuous')\n",
    "y = pulp.LpVariable('y', lowBound=80, upBound=170, cat='Continuous')"
   ]
  },
  {
   "cell_type": "code",
   "execution_count": 4,
   "metadata": {
    "collapsed": true
   },
   "outputs": [],
   "source": [
    "# objective function\n",
    "linear += -2000 * x + 5000 * y, \"Z\"\n",
    "\n",
    "# constraints\n",
    "linear += x + y >= 200"
   ]
  },
  {
   "cell_type": "code",
   "execution_count": 5,
   "metadata": {},
   "outputs": [
    {
     "data": {
      "text/plain": [
       "Linear Programming:\n",
       "MAXIMIZE\n",
       "-2000*x + 5000*y + 0\n",
       "SUBJECT TO\n",
       "_C1: x + y >= 200\n",
       "\n",
       "VARIABLES\n",
       "100 <= x <= 200 Continuous\n",
       "80 <= y <= 170 Continuous"
      ]
     },
     "execution_count": 5,
     "metadata": {},
     "output_type": "execute_result"
    }
   ],
   "source": [
    "linear"
   ]
  },
  {
   "cell_type": "code",
   "execution_count": 6,
   "metadata": {},
   "outputs": [
    {
     "data": {
      "text/plain": [
       "'Optimal'"
      ]
     },
     "execution_count": 6,
     "metadata": {},
     "output_type": "execute_result"
    }
   ],
   "source": [
    "linear.solve()\n",
    "pulp.LpStatus[linear.status]"
   ]
  },
  {
   "cell_type": "code",
   "execution_count": 7,
   "metadata": {},
   "outputs": [
    {
     "name": "stdout",
     "output_type": "stream",
     "text": [
      "x 100.0\n",
      "y 170.0\n"
     ]
    }
   ],
   "source": [
    "for variable in linear.variables():\n",
    "    print(variable.name, variable.varValue)"
   ]
  },
  {
   "cell_type": "code",
   "execution_count": 8,
   "metadata": {},
   "outputs": [
    {
     "name": "stdout",
     "output_type": "stream",
     "text": [
      "650000.0\n"
     ]
    }
   ],
   "source": [
    "print (pulp.value(linear.objective))"
   ]
  },
  {
   "cell_type": "markdown",
   "metadata": {},
   "source": [
    "## Conclusion: \n",
    "## The company must manufacture 100 model A cars and 170 model B cars in order to get a maximum profit of \\$650,000"
   ]
  }
 ],
 "metadata": {
  "kernelspec": {
   "display_name": "R",
   "language": "R",
   "name": "ir"
  },
  "language_info": {
   "codemirror_mode": "r",
   "file_extension": ".r",
   "mimetype": "text/x-r-source",
   "name": "R",
   "pygments_lexer": "r",
   "version": "3.4.2"
  }
 },
 "nbformat": 4,
 "nbformat_minor": 2
}
